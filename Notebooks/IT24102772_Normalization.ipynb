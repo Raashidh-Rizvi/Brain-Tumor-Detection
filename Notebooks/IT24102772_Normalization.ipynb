{
  "nbformat": 4,
  "nbformat_minor": 0,
  "metadata": {
    "colab": {
      "provenance": [],
      "authorship_tag": "ABX9TyOp7FqdOt+9uN9a70d//LRs",
      "include_colab_link": true
    },
    "kernelspec": {
      "name": "python3",
      "display_name": "Python 3"
    },
    "language_info": {
      "name": "python"
    }
  },
  "cells": [
    {
      "cell_type": "markdown",
      "metadata": {
        "id": "view-in-github",
        "colab_type": "text"
      },
      "source": [
        "<a href=\"https://colab.research.google.com/github/Raashidh-Rizvi/Brain-Tumor-Detection/blob/main/Notebooks/IT24102772_Normalization.ipynb\" target=\"_parent\"><img src=\"https://colab.research.google.com/assets/colab-badge.svg\" alt=\"Open In Colab\"/></a>"
      ]
    },
    {
      "cell_type": "code",
      "execution_count": 1,
      "metadata": {
        "colab": {
          "base_uri": "https://localhost:8080/",
          "height": 332
        },
        "id": "DQj8UnovIvtu",
        "outputId": "371f1bf4-a1ae-4ad5-89c7-4fa5735f82ba"
      },
      "outputs": [
        {
          "output_type": "error",
          "ename": "FileNotFoundError",
          "evalue": "[Errno 2] No such file or directory: '/content/Brain-Tumor-Detection/data/Training'",
          "traceback": [
            "\u001b[0;31m---------------------------------------------------------------------------\u001b[0m",
            "\u001b[0;31mFileNotFoundError\u001b[0m                         Traceback (most recent call last)",
            "\u001b[0;32m/tmp/ipython-input-2405717615.py\u001b[0m in \u001b[0;36m<cell line: 0>\u001b[0;34m()\u001b[0m\n\u001b[1;32m     43\u001b[0m \u001b[0;31m# Step 3: Apply to Training & Test Data\u001b[0m\u001b[0;34m\u001b[0m\u001b[0;34m\u001b[0m\u001b[0m\n\u001b[1;32m     44\u001b[0m \u001b[0;31m# --------------------------\u001b[0m\u001b[0;34m\u001b[0m\u001b[0;34m\u001b[0m\u001b[0m\n\u001b[0;32m---> 45\u001b[0;31m \u001b[0mX_train\u001b[0m\u001b[0;34m,\u001b[0m \u001b[0my_train\u001b[0m \u001b[0;34m=\u001b[0m \u001b[0mload_and_normalize_images\u001b[0m\u001b[0;34m(\u001b[0m\u001b[0mtrain_dir\u001b[0m\u001b[0;34m)\u001b[0m\u001b[0;34m\u001b[0m\u001b[0;34m\u001b[0m\u001b[0m\n\u001b[0m\u001b[1;32m     46\u001b[0m \u001b[0mX_test\u001b[0m\u001b[0;34m,\u001b[0m \u001b[0my_test\u001b[0m \u001b[0;34m=\u001b[0m \u001b[0mload_and_normalize_images\u001b[0m\u001b[0;34m(\u001b[0m\u001b[0mtest_dir\u001b[0m\u001b[0;34m)\u001b[0m\u001b[0;34m\u001b[0m\u001b[0;34m\u001b[0m\u001b[0m\n\u001b[1;32m     47\u001b[0m \u001b[0;34m\u001b[0m\u001b[0m\n",
            "\u001b[0;32m/tmp/ipython-input-2405717615.py\u001b[0m in \u001b[0;36mload_and_normalize_images\u001b[0;34m(directory)\u001b[0m\n\u001b[1;32m     19\u001b[0m     \u001b[0mlabels\u001b[0m \u001b[0;34m=\u001b[0m \u001b[0;34m[\u001b[0m\u001b[0;34m]\u001b[0m\u001b[0;34m\u001b[0m\u001b[0;34m\u001b[0m\u001b[0m\n\u001b[1;32m     20\u001b[0m \u001b[0;34m\u001b[0m\u001b[0m\n\u001b[0;32m---> 21\u001b[0;31m     \u001b[0;32mfor\u001b[0m \u001b[0mclass_name\u001b[0m \u001b[0;32min\u001b[0m \u001b[0mos\u001b[0m\u001b[0;34m.\u001b[0m\u001b[0mlistdir\u001b[0m\u001b[0;34m(\u001b[0m\u001b[0mdirectory\u001b[0m\u001b[0;34m)\u001b[0m\u001b[0;34m:\u001b[0m\u001b[0;34m\u001b[0m\u001b[0;34m\u001b[0m\u001b[0m\n\u001b[0m\u001b[1;32m     22\u001b[0m         \u001b[0mclass_folder\u001b[0m \u001b[0;34m=\u001b[0m \u001b[0mos\u001b[0m\u001b[0;34m.\u001b[0m\u001b[0mpath\u001b[0m\u001b[0;34m.\u001b[0m\u001b[0mjoin\u001b[0m\u001b[0;34m(\u001b[0m\u001b[0mdirectory\u001b[0m\u001b[0;34m,\u001b[0m \u001b[0mclass_name\u001b[0m\u001b[0;34m)\u001b[0m\u001b[0;34m\u001b[0m\u001b[0;34m\u001b[0m\u001b[0m\n\u001b[1;32m     23\u001b[0m         \u001b[0;32mif\u001b[0m \u001b[0mos\u001b[0m\u001b[0;34m.\u001b[0m\u001b[0mpath\u001b[0m\u001b[0;34m.\u001b[0m\u001b[0misdir\u001b[0m\u001b[0;34m(\u001b[0m\u001b[0mclass_folder\u001b[0m\u001b[0;34m)\u001b[0m\u001b[0;34m:\u001b[0m\u001b[0;34m\u001b[0m\u001b[0;34m\u001b[0m\u001b[0m\n",
            "\u001b[0;31mFileNotFoundError\u001b[0m: [Errno 2] No such file or directory: '/content/Brain-Tumor-Detection/data/Training'"
          ]
        }
      ],
      "source": [
        "import os\n",
        "import numpy as np\n",
        "import matplotlib.pyplot as plt\n",
        "import cv2\n",
        "\n",
        "\n",
        "\n",
        "# --------------------------\n",
        "# Step 1: Dataset Path\n",
        "# --------------------------\n",
        "train_dir = \"/content/Brain-Tumor-Detection/data/Training\"\n",
        "test_dir = \"/content/Brain-Tumor-Detection/data/Testing\"\n",
        "\n",
        "IMG_SIZE = (224, 224)\n",
        "\n",
        "# --------------------------\n",
        "# Step 2: Function to Load & Normalize Images\n",
        "# --------------------------\n",
        "def load_and_normalize_images(directory):\n",
        "    images = []\n",
        "    labels = []\n",
        "\n",
        "    for class_name in os.listdir(directory):\n",
        "        class_folder = os.path.join(directory, class_name)\n",
        "        if os.path.isdir(class_folder):\n",
        "            for img_name in os.listdir(class_folder):\n",
        "                img_path = os.path.join(class_folder, img_name)\n",
        "\n",
        "                try:\n",
        "                    # Load image\n",
        "                    img = cv2.imread(img_path)\n",
        "                    img = cv2.resize(img, IMG_SIZE)   # Resize to (224x224)\n",
        "\n",
        "                    # Normalization: scale 0–255 → 0–1\n",
        "                    img = img.astype(\"float32\") / 255.0\n",
        "\n",
        "                    images.append(img)\n",
        "                    labels.append(class_name)\n",
        "                except:\n",
        "                    print(\"Corrupted image skipped:\", img_path)\n",
        "\n",
        "    return np.array(images), np.array(labels)\n",
        "\n",
        "# --------------------------\n",
        "# Step 3: Apply to Training & Test Data\n",
        "# --------------------------\n",
        "X_train, y_train = load_and_normalize_images(train_dir)\n",
        "X_test, y_test = load_and_normalize_images(test_dir)\n",
        "\n",
        "print(\"Training data shape:\", X_train.shape)\n",
        "print(\"Testing data shape:\", X_test.shape)\n",
        "print(\"Pixel value range: min =\", X_train.min(), \", max =\", X_train.max())\n",
        "\n",
        "# --------------------------\n",
        "# Step 4: Visualization\n",
        "# --------------------------\n",
        "plt.figure(figsize=(10,6))\n",
        "\n",
        "for i in range(8):\n",
        "    plt.subplot(2,4,i+1)\n",
        "    plt.imshow(X_train[i])\n",
        "    plt.title(y_train[i])  # Show class label\n",
        "    plt.axis(\"off\")\n",
        "\n",
        "plt.suptitle(\"Normalized Training Images (0–1 range)\", fontsize=16)\n",
        "plt.tight_layout()\n",
        "plt.show()\n",
        "\n",
        "# --------------------------\n",
        "# Step 5: Save Normalized Data (optional)\n",
        "# --------------------------\n",
        "np.save(\"X_train_normalized.npy\", X_train)\n",
        "np.save(\"y_train_labels.npy\", y_train)\n",
        "np.save(\"X_test_normalized.npy\", X_test)\n",
        "np.save(\"y_test_labels.npy\", y_test)\n",
        "\n",
        "print(\"✅ Normalized dataset saved as .npy files\")\n"
      ]
    }
  ]
}